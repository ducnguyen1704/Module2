{
 "cells": [
  {
   "cell_type": "markdown",
   "metadata": {},
   "source": [
    "# Sắp xếp các số nguyên"
   ]
  },
  {
   "cell_type": "code",
   "execution_count": 3,
   "metadata": {},
   "outputs": [],
   "source": [
    "temp = 0\n",
    "def sort_numbers(n1,n2,n3):\n",
    "    if n2 < n1 and n2 < n3:\n",
    "        temp = n1\n",
    "        n1 = n2\n",
    "        n2 = temp\n",
    "    elif n3 < n1 and n3 < n2:\n",
    "        temp = n1\n",
    "        n1 = n3\n",
    "        n3 = temp\n",
    "    if n3 < n2:\n",
    "        temp = n2\n",
    "        n2 = n3\n",
    "        n3 = temp\n",
    "    return n1, n2, n3"
   ]
  },
  {
   "cell_type": "code",
   "execution_count": 4,
   "metadata": {},
   "outputs": [
    {
     "name": "stdout",
     "output_type": "stream",
     "text": [
      "Enter first number: 3\n",
      "Enter second number: 8\n",
      "Enter third number: 1\n",
      "Original numbers:  3 8 1\n",
      "Sorted numbers:  1 3 8\n"
     ]
    }
   ],
   "source": [
    "n1 = int(input(\"Enter first number: \"))\n",
    "n2 = int(input(\"Enter second number: \"))\n",
    "n3 = int(input(\"Enter third number: \"))\n",
    "a, b, c = sort_numbers(n1, n2, n3)\n",
    "print(\"Original numbers: \", n1, n2, n3)\n",
    "print(\"Sorted numbers: \", a, b, c)"
   ]
  },
  {
   "cell_type": "code",
   "execution_count": null,
   "metadata": {},
   "outputs": [],
   "source": []
  }
 ],
 "metadata": {
  "kernelspec": {
   "display_name": "Python 3",
   "language": "python",
   "name": "python3"
  },
  "language_info": {
   "codemirror_mode": {
    "name": "ipython",
    "version": 3
   },
   "file_extension": ".py",
   "mimetype": "text/x-python",
   "name": "python",
   "nbconvert_exporter": "python",
   "pygments_lexer": "ipython3",
   "version": "3.7.6"
  }
 },
 "nbformat": 4,
 "nbformat_minor": 4
}
