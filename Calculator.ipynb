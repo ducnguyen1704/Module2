{
 "cells": [
  {
   "cell_type": "markdown",
   "metadata": {},
   "source": [
    "# Tạo máy tính đơn giản:"
   ]
  },
  {
   "cell_type": "code",
   "execution_count": 11,
   "metadata": {},
   "outputs": [],
   "source": [
    "def add(num1, num2):\n",
    "    Total = num1 + num2\n",
    "    print(\"Phép cộng: {} + {} = {:.2f} \".format(num1,num2,Total))\n",
    "def sub(num1,num2):\n",
    "    Subtract = num1 - num2\n",
    "    print(\"Phép trừ: {} - {} = {:.2f} \".format(num1,num2,Subtract))\n",
    "def multi(num1, num2):\n",
    "    multis = num1 * num2\n",
    "    print(\"Phép nhân: {} * {} = {:.2f} \".format(num1,num2,multis))\n",
    "def divide(num1,num2):\n",
    "    divides = num1 / num2\n",
    "    print(\"Phép chia: {} / {} = {:.2f} \".format(num1,num2,divides))"
   ]
  },
  {
   "cell_type": "code",
   "execution_count": 12,
   "metadata": {},
   "outputs": [
    {
     "name": "stdout",
     "output_type": "stream",
     "text": [
      "Nhập vào 2 số tự nhiên cách nhau bởi dấu khoảng trắng: 2.7457 3.4757\n",
      "Mời bạn lựa chọn phép tính:\n",
      "        1. Phép tính cộng\n",
      "        2. Phép tính trừ\n",
      "        3. Phép tính nhân\n",
      "        4. Phép tính chia \n",
      "Nhập vào lựa chọn của bạn (Số hợp lệ là 1,2,3,4): 4\n",
      "Phép chia: 2.7457 / 3.4757 = 0.79 \n"
     ]
    }
   ],
   "source": [
    "# Chương trình lựa chọn\n",
    "num1, num2 = map(float, input(\"Nhập vào 2 số tự nhiên cách nhau bởi dấu khoảng trắng: \").split(\" \"))\n",
    "print(\"\"\"Mời bạn lựa chọn phép tính:\n",
    "        1. Phép tính cộng\n",
    "        2. Phép tính trừ\n",
    "        3. Phép tính nhân\n",
    "        4. Phép tính chia \"\"\")\n",
    "option = int(input(\"Nhập vào lựa chọn của bạn (Số hợp lệ là 1,2,3,4): \"))\n",
    "if option > 0 and option < 5:\n",
    "    if option == 1:\n",
    "        add(num1,num2)\n",
    "    elif option == 2:\n",
    "        sub(num1,num2)\n",
    "    elif option == 3:\n",
    "        multi(num1,num2)\n",
    "    else:\n",
    "        divide(num1,num2)\n",
    "else:\n",
    "    print(\"Lựa chọn của bạn không hợp lệ, Hãy nhập lại con số hợp lệ\")"
   ]
  },
  {
   "cell_type": "code",
   "execution_count": null,
   "metadata": {},
   "outputs": [],
   "source": []
  }
 ],
 "metadata": {
  "kernelspec": {
   "display_name": "Python 3",
   "language": "python",
   "name": "python3"
  },
  "language_info": {
   "codemirror_mode": {
    "name": "ipython",
    "version": 3
   },
   "file_extension": ".py",
   "mimetype": "text/x-python",
   "name": "python",
   "nbconvert_exporter": "python",
   "pygments_lexer": "ipython3",
   "version": "3.7.6"
  }
 },
 "nbformat": 4,
 "nbformat_minor": 4
}
