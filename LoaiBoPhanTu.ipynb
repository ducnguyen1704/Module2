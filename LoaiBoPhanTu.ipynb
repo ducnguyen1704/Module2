{
 "cells": [
  {
   "cell_type": "markdown",
   "metadata": {},
   "source": [
    "# Loại bỏ phần tử lớn nhất trong danh sách:"
   ]
  },
  {
   "cell_type": "markdown",
   "metadata": {},
   "source": [
    "Bước 1: Khai báo hàm xoá số lớn nhất (tạm gọi hàm này là remove_largest_number()), \n",
    "nhận tham số đầu vào là mảng các số. Hàm này sẽ thực hiện việc tìm số lớn nhất trong mảng đầu vào. \n",
    "Sau đó sẽ xoá số đó khỏi mảng."
   ]
  },
  {
   "cell_type": "code",
   "execution_count": 1,
   "metadata": {},
   "outputs": [],
   "source": [
    "def remove_largest_number(numbers):\n",
    "    largest = 0\n",
    "    for number in numbers:\n",
    "        if number > largest:\n",
    "            largest = number\n",
    "    numbers.remove(largest)"
   ]
  },
  {
   "cell_type": "code",
   "execution_count": 10,
   "metadata": {},
   "outputs": [
    {
     "name": "stdout",
     "output_type": "stream",
     "text": [
      "[10, 20, 30, 40, 22, 90, 24, 54, 65, 23]\n",
      "[10, 20, 30, 40, 22, 24, 54, 65, 23]\n"
     ]
    }
   ],
   "source": [
    "numbers = [10,20,30,40,22,90,24,54,65,23]\n",
    "print(numbers)\n",
    "remove_largest_number(numbers)\n",
    "print(numbers)"
   ]
  },
  {
   "cell_type": "code",
   "execution_count": null,
   "metadata": {},
   "outputs": [],
   "source": []
  }
 ],
 "metadata": {
  "kernelspec": {
   "display_name": "Python 3",
   "language": "python",
   "name": "python3"
  },
  "language_info": {
   "codemirror_mode": {
    "name": "ipython",
    "version": 3
   },
   "file_extension": ".py",
   "mimetype": "text/x-python",
   "name": "python",
   "nbconvert_exporter": "python",
   "pygments_lexer": "ipython3",
   "version": "3.7.6"
  }
 },
 "nbformat": 4,
 "nbformat_minor": 4
}
