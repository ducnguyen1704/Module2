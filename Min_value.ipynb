{
 "cells": [
  {
   "cell_type": "markdown",
   "metadata": {},
   "source": [
    "# Tìm giá trị nhỏ nhất."
   ]
  },
  {
   "cell_type": "code",
   "execution_count": 1,
   "metadata": {},
   "outputs": [
    {
     "name": "stdout",
     "output_type": "stream",
     "text": [
      "Nhập số phần tử của mảng: 5\n",
      "Phần tử thứ: 1 4\n",
      "Phần tử thứ: 2 3\n",
      "Phần tử thứ: 3 5\n",
      "Phần tử thứ: 4 6\n",
      "Phần tử thứ: 5 2\n",
      "Giá trị nhỏ nhất trong mảng [4, 3, 5, 6, 2] là 2 \n"
     ]
    }
   ],
   "source": [
    "n = int(input(\"Nhập số phần tử của mảng: \"))\n",
    "lst = []\n",
    "for i in range(n):\n",
    "    lst.append(int(input(\"Phần tử thứ: {} \".format(i+1))))\n",
    "min_value = lst[0]\n",
    "\n",
    "for i in lst:\n",
    "    if i < min_value:\n",
    "        min_value = i\n",
    "print(\"Giá trị nhỏ nhất trong mảng {} là {} \".format(lst,min_value))"
   ]
  }
 ],
 "metadata": {
  "kernelspec": {
   "display_name": "Python 3",
   "language": "python",
   "name": "python3"
  },
  "language_info": {
   "codemirror_mode": {
    "name": "ipython",
    "version": 3
   },
   "file_extension": ".py",
   "mimetype": "text/x-python",
   "name": "python",
   "nbconvert_exporter": "python",
   "pygments_lexer": "ipython3",
   "version": "3.7.6"
  }
 },
 "nbformat": 4,
 "nbformat_minor": 4
}
