{
 "cells": [
  {
   "cell_type": "markdown",
   "metadata": {},
   "source": [
    "# Chương trình hiển thị danh sách quả yêu thích"
   ]
  },
  {
   "cell_type": "code",
   "execution_count": 3,
   "metadata": {},
   "outputs": [],
   "source": [
    "# Bước 1: Hiển thị 1 danh sách quả \n",
    "fruits = [\"Orange\", \"Apple\", \"Grapes\",\n",
    "          \"Coconut\",\"watermelon\"]\n",
    "# Bước 2: Hàm thêm quả vào danh sách\n",
    "def add_fruit(fruits, fruit_to_add):    \n",
    "    fruits.append(fruit_to_add)    \n",
    "    print('Fruits inside function', fruits)"
   ]
  },
  {
   "cell_type": "code",
   "execution_count": 4,
   "metadata": {},
   "outputs": [
    {
     "name": "stdout",
     "output_type": "stream",
     "text": [
      "Fruits inside function ['Orange', 'Apple', 'Grapes', 'Coconut', 'watermelon', 'Mango']\n"
     ]
    }
   ],
   "source": [
    "# Bước 3: Khai báo quả mới với tên fruit_to_add với giá trị: ‘Mango’.\n",
    "fruit_to_add = \"Mango\"\n",
    "add_fruit(fruits, fruit_to_add)\n"
   ]
  },
  {
   "cell_type": "code",
   "execution_count": 5,
   "metadata": {},
   "outputs": [
    {
     "name": "stdout",
     "output_type": "stream",
     "text": [
      "Fruits outside function ['Orange', 'Apple', 'Grapes', 'Coconut', 'watermelon', 'Mango']\n"
     ]
    }
   ],
   "source": [
    "print('Fruits outside function', fruits)"
   ]
  },
  {
   "cell_type": "code",
   "execution_count": null,
   "metadata": {},
   "outputs": [],
   "source": []
  }
 ],
 "metadata": {
  "kernelspec": {
   "display_name": "Python 3",
   "language": "python",
   "name": "python3"
  },
  "language_info": {
   "codemirror_mode": {
    "name": "ipython",
    "version": 3
   },
   "file_extension": ".py",
   "mimetype": "text/x-python",
   "name": "python",
   "nbconvert_exporter": "python",
   "pygments_lexer": "ipython3",
   "version": "3.7.6"
  }
 },
 "nbformat": 4,
 "nbformat_minor": 4
}
